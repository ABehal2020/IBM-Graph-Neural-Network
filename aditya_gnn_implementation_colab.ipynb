{
  "cells": [
    {
      "cell_type": "markdown",
      "metadata": {
        "id": "view-in-github",
        "colab_type": "text"
      },
      "source": [
        "<a href=\"https://colab.research.google.com/github/ABehal2020/IBM-Graph-Neural-Network/blob/main/aditya_gnn_implementation_colab.ipynb\" target=\"_parent\"><img src=\"https://colab.research.google.com/assets/colab-badge.svg\" alt=\"Open In Colab\"/></a>"
      ]
    },
    {
      "cell_type": "code",
      "execution_count": null,
      "metadata": {
        "colab": {
          "base_uri": "https://localhost:8080/"
        },
        "id": "xktUE0ktyTxL",
        "outputId": "5e4c0fac-fb4d-4fe0-8b8e-8301df919f09"
      },
      "outputs": [
        {
          "name": "stdout",
          "output_type": "stream",
          "text": [
            "Looking in indexes: https://pypi.org/simple, https://us-python.pkg.dev/colab-wheels/public/simple/\n",
            "Requirement already satisfied: jupyter-book in /usr/local/lib/python3.7/dist-packages (0.13.0)\n",
            "Requirement already satisfied: matplotlib in /usr/local/lib/python3.7/dist-packages (3.2.2)\n",
            "Requirement already satisfied: numpy in /usr/local/lib/python3.7/dist-packages (1.21.6)\n",
            "Requirement already satisfied: tensorflow in /usr/local/lib/python3.7/dist-packages (2.8.2+zzzcolab20220527125636)\n",
            "Requirement already satisfied: pydot in /usr/local/lib/python3.7/dist-packages (1.3.0)\n",
            "Requirement already satisfied: seaborn in /usr/local/lib/python3.7/dist-packages (0.11.2)\n",
            "Requirement already satisfied: Pillow in /usr/local/lib/python3.7/dist-packages (7.1.2)\n",
            "Requirement already satisfied: rdkit-pypi in /usr/local/lib/python3.7/dist-packages (2022.3.3)\n",
            "Requirement already satisfied: torch_geometric in /usr/local/lib/python3.7/dist-packages (2.0.4)\n",
            "Requirement already satisfied: Jinja2 in /usr/local/lib/python3.7/dist-packages (from jupyter-book) (3.1.2)\n",
            "Requirement already satisfied: sphinx-external-toc~=0.2.3 in /usr/local/lib/python3.7/dist-packages (from jupyter-book) (0.2.4)\n",
            "Requirement already satisfied: sphinx-thebe~=0.1.1 in /usr/local/lib/python3.7/dist-packages (from jupyter-book) (0.1.2)\n",
            "Requirement already satisfied: pyyaml in /usr/local/lib/python3.7/dist-packages (from jupyter-book) (3.13)\n",
            "Requirement already satisfied: click<9,>=7.1 in /usr/local/lib/python3.7/dist-packages (from jupyter-book) (7.1.2)\n",
            "Requirement already satisfied: sphinx_togglebutton in /usr/local/lib/python3.7/dist-packages (from jupyter-book) (0.3.1)\n",
            "Requirement already satisfied: sphinx-multitoc-numbering~=0.1.3 in /usr/local/lib/python3.7/dist-packages (from jupyter-book) (0.1.3)\n",
            "Requirement already satisfied: myst-nb~=0.13.1 in /usr/local/lib/python3.7/dist-packages (from jupyter-book) (0.13.2)\n",
            "Requirement already satisfied: sphinx_book_theme~=0.3.2 in /usr/local/lib/python3.7/dist-packages (from jupyter-book) (0.3.2)\n",
            "Requirement already satisfied: docutils<0.18,>=0.15 in /usr/local/lib/python3.7/dist-packages (from jupyter-book) (0.17.1)\n",
            "Requirement already satisfied: linkify-it-py~=1.0.1 in /usr/local/lib/python3.7/dist-packages (from jupyter-book) (1.0.3)\n",
            "Requirement already satisfied: sphinx-jupyterbook-latex~=0.4.6 in /usr/local/lib/python3.7/dist-packages (from jupyter-book) (0.4.6)\n",
            "Requirement already satisfied: sphinx-design~=0.1.0 in /usr/local/lib/python3.7/dist-packages (from jupyter-book) (0.1.0)\n",
            "Requirement already satisfied: sphinx-comments in /usr/local/lib/python3.7/dist-packages (from jupyter-book) (0.0.3)\n",
            "Requirement already satisfied: sphinxcontrib-bibtex<=2.5.0,>=2.2.0 in /usr/local/lib/python3.7/dist-packages (from jupyter-book) (2.4.2)\n",
            "Requirement already satisfied: sphinx<5,>=4 in /usr/local/lib/python3.7/dist-packages (from jupyter-book) (4.5.0)\n",
            "Requirement already satisfied: jsonschema<4 in /usr/local/lib/python3.7/dist-packages (from jupyter-book) (3.2.0)\n",
            "Requirement already satisfied: sphinx-copybutton in /usr/local/lib/python3.7/dist-packages (from jupyter-book) (0.5.0)\n",
            "Requirement already satisfied: importlib-metadata in /usr/local/lib/python3.7/dist-packages (from jsonschema<4->jupyter-book) (4.11.4)\n",
            "Requirement already satisfied: six>=1.11.0 in /usr/local/lib/python3.7/dist-packages (from jsonschema<4->jupyter-book) (1.15.0)\n",
            "Requirement already satisfied: attrs>=17.4.0 in /usr/local/lib/python3.7/dist-packages (from jsonschema<4->jupyter-book) (21.4.0)\n",
            "Requirement already satisfied: setuptools in /usr/local/lib/python3.7/dist-packages (from jsonschema<4->jupyter-book) (57.4.0)\n",
            "Requirement already satisfied: pyrsistent>=0.14.0 in /usr/local/lib/python3.7/dist-packages (from jsonschema<4->jupyter-book) (0.18.1)\n",
            "Requirement already satisfied: uc-micro-py in /usr/local/lib/python3.7/dist-packages (from linkify-it-py~=1.0.1->jupyter-book) (1.0.1)\n",
            "Requirement already satisfied: jupyter-sphinx~=0.3.2 in /usr/local/lib/python3.7/dist-packages (from myst-nb~=0.13.1->jupyter-book) (0.3.2)\n",
            "Requirement already satisfied: ipywidgets<8,>=7.0.0 in /usr/local/lib/python3.7/dist-packages (from myst-nb~=0.13.1->jupyter-book) (7.7.0)\n",
            "Requirement already satisfied: myst-parser~=0.15.2 in /usr/local/lib/python3.7/dist-packages (from myst-nb~=0.13.1->jupyter-book) (0.15.2)\n",
            "Requirement already satisfied: ipython in /usr/local/lib/python3.7/dist-packages (from myst-nb~=0.13.1->jupyter-book) (5.5.0)\n",
            "Requirement already satisfied: nbformat~=5.0 in /usr/local/lib/python3.7/dist-packages (from myst-nb~=0.13.1->jupyter-book) (5.4.0)\n",
            "Requirement already satisfied: jupyter-cache~=0.4.1 in /usr/local/lib/python3.7/dist-packages (from myst-nb~=0.13.1->jupyter-book) (0.4.3)\n",
            "Requirement already satisfied: nbconvert<7,>=5.6 in /usr/local/lib/python3.7/dist-packages (from myst-nb~=0.13.1->jupyter-book) (6.5.0)\n",
            "Requirement already satisfied: traitlets>=4.3.1 in /usr/local/lib/python3.7/dist-packages (from ipywidgets<8,>=7.0.0->myst-nb~=0.13.1->jupyter-book) (5.1.1)\n",
            "Requirement already satisfied: jupyterlab-widgets>=1.0.0 in /usr/local/lib/python3.7/dist-packages (from ipywidgets<8,>=7.0.0->myst-nb~=0.13.1->jupyter-book) (1.1.0)\n",
            "Requirement already satisfied: widgetsnbextension~=3.6.0 in /usr/local/lib/python3.7/dist-packages (from ipywidgets<8,>=7.0.0->myst-nb~=0.13.1->jupyter-book) (3.6.0)\n",
            "Requirement already satisfied: ipython-genutils~=0.2.0 in /usr/local/lib/python3.7/dist-packages (from ipywidgets<8,>=7.0.0->myst-nb~=0.13.1->jupyter-book) (0.2.0)\n",
            "Requirement already satisfied: ipykernel>=4.5.1 in /usr/local/lib/python3.7/dist-packages (from ipywidgets<8,>=7.0.0->myst-nb~=0.13.1->jupyter-book) (4.10.1)\n",
            "Requirement already satisfied: jupyter-client in /usr/local/lib/python3.7/dist-packages (from ipykernel>=4.5.1->ipywidgets<8,>=7.0.0->myst-nb~=0.13.1->jupyter-book) (7.3.4)\n",
            "Requirement already satisfied: tornado>=4.0 in /usr/local/lib/python3.7/dist-packages (from ipykernel>=4.5.1->ipywidgets<8,>=7.0.0->myst-nb~=0.13.1->jupyter-book) (6.1)\n",
            "Requirement already satisfied: decorator in /usr/local/lib/python3.7/dist-packages (from ipython->myst-nb~=0.13.1->jupyter-book) (4.4.2)\n",
            "Requirement already satisfied: pickleshare in /usr/local/lib/python3.7/dist-packages (from ipython->myst-nb~=0.13.1->jupyter-book) (0.7.5)\n",
            "Requirement already satisfied: pygments in /usr/local/lib/python3.7/dist-packages (from ipython->myst-nb~=0.13.1->jupyter-book) (2.6.1)\n",
            "Requirement already satisfied: pexpect in /usr/local/lib/python3.7/dist-packages (from ipython->myst-nb~=0.13.1->jupyter-book) (4.8.0)\n",
            "Requirement already satisfied: simplegeneric>0.8 in /usr/local/lib/python3.7/dist-packages (from ipython->myst-nb~=0.13.1->jupyter-book) (0.8.1)\n",
            "Requirement already satisfied: prompt-toolkit<2.0.0,>=1.0.4 in /usr/local/lib/python3.7/dist-packages (from ipython->myst-nb~=0.13.1->jupyter-book) (1.0.18)\n",
            "Requirement already satisfied: nbdime in /usr/local/lib/python3.7/dist-packages (from jupyter-cache~=0.4.1->myst-nb~=0.13.1->jupyter-book) (3.1.1)\n",
            "Requirement already satisfied: nbclient<0.6,>=0.2 in /usr/local/lib/python3.7/dist-packages (from jupyter-cache~=0.4.1->myst-nb~=0.13.1->jupyter-book) (0.5.13)\n",
            "Requirement already satisfied: sqlalchemy<1.5,>=1.3.12 in /usr/local/lib/python3.7/dist-packages (from jupyter-cache~=0.4.1->myst-nb~=0.13.1->jupyter-book) (1.4.37)\n",
            "Requirement already satisfied: markdown-it-py<2.0.0,>=1.0.0 in /usr/local/lib/python3.7/dist-packages (from myst-parser~=0.15.2->myst-nb~=0.13.1->jupyter-book) (1.1.0)\n",
            "Requirement already satisfied: mdit-py-plugins~=0.2.8 in /usr/local/lib/python3.7/dist-packages (from myst-parser~=0.15.2->myst-nb~=0.13.1->jupyter-book) (0.2.8)\n",
            "Requirement already satisfied: typing-extensions>=3.7.4 in /usr/local/lib/python3.7/dist-packages (from markdown-it-py<2.0.0,>=1.0.0->myst-parser~=0.15.2->myst-nb~=0.13.1->jupyter-book) (4.1.1)\n",
            "Requirement already satisfied: nest-asyncio in /usr/local/lib/python3.7/dist-packages (from nbclient<0.6,>=0.2->jupyter-cache~=0.4.1->myst-nb~=0.13.1->jupyter-book) (1.5.5)\n",
            "Requirement already satisfied: python-dateutil>=2.8.2 in /usr/local/lib/python3.7/dist-packages (from jupyter-client->ipykernel>=4.5.1->ipywidgets<8,>=7.0.0->myst-nb~=0.13.1->jupyter-book) (2.8.2)\n",
            "Requirement already satisfied: pyzmq>=23.0 in /usr/local/lib/python3.7/dist-packages (from jupyter-client->ipykernel>=4.5.1->ipywidgets<8,>=7.0.0->myst-nb~=0.13.1->jupyter-book) (23.1.0)\n",
            "Requirement already satisfied: entrypoints in /usr/local/lib/python3.7/dist-packages (from jupyter-client->ipykernel>=4.5.1->ipywidgets<8,>=7.0.0->myst-nb~=0.13.1->jupyter-book) (0.4)\n",
            "Requirement already satisfied: jupyter-core>=4.9.2 in /usr/local/lib/python3.7/dist-packages (from jupyter-client->ipykernel>=4.5.1->ipywidgets<8,>=7.0.0->myst-nb~=0.13.1->jupyter-book) (4.10.0)\n",
            "Requirement already satisfied: beautifulsoup4 in /usr/local/lib/python3.7/dist-packages (from nbconvert<7,>=5.6->myst-nb~=0.13.1->jupyter-book) (4.6.3)\n",
            "Requirement already satisfied: jupyterlab-pygments in /usr/local/lib/python3.7/dist-packages (from nbconvert<7,>=5.6->myst-nb~=0.13.1->jupyter-book) (0.2.2)\n",
            "Requirement already satisfied: tinycss2 in /usr/local/lib/python3.7/dist-packages (from nbconvert<7,>=5.6->myst-nb~=0.13.1->jupyter-book) (1.1.1)\n",
            "Requirement already satisfied: defusedxml in /usr/local/lib/python3.7/dist-packages (from nbconvert<7,>=5.6->myst-nb~=0.13.1->jupyter-book) (0.7.1)\n",
            "Requirement already satisfied: bleach in /usr/local/lib/python3.7/dist-packages (from nbconvert<7,>=5.6->myst-nb~=0.13.1->jupyter-book) (5.0.0)\n",
            "Requirement already satisfied: packaging in /usr/local/lib/python3.7/dist-packages (from nbconvert<7,>=5.6->myst-nb~=0.13.1->jupyter-book) (21.3)\n",
            "Requirement already satisfied: MarkupSafe>=2.0 in /usr/local/lib/python3.7/dist-packages (from nbconvert<7,>=5.6->myst-nb~=0.13.1->jupyter-book) (2.0.1)\n",
            "Requirement already satisfied: pandocfilters>=1.4.1 in /usr/local/lib/python3.7/dist-packages (from nbconvert<7,>=5.6->myst-nb~=0.13.1->jupyter-book) (1.5.0)\n",
            "Requirement already satisfied: mistune<2,>=0.8.1 in /usr/local/lib/python3.7/dist-packages (from nbconvert<7,>=5.6->myst-nb~=0.13.1->jupyter-book) (0.8.4)\n",
            "Requirement already satisfied: fastjsonschema in /usr/local/lib/python3.7/dist-packages (from nbformat~=5.0->myst-nb~=0.13.1->jupyter-book) (2.15.3)\n",
            "Requirement already satisfied: wcwidth in /usr/local/lib/python3.7/dist-packages (from prompt-toolkit<2.0.0,>=1.0.4->ipython->myst-nb~=0.13.1->jupyter-book) (0.2.5)\n",
            "Requirement already satisfied: alabaster<0.8,>=0.7 in /usr/local/lib/python3.7/dist-packages (from sphinx<5,>=4->jupyter-book) (0.7.12)\n",
            "Requirement already satisfied: requests>=2.5.0 in /usr/local/lib/python3.7/dist-packages (from sphinx<5,>=4->jupyter-book) (2.23.0)\n",
            "Requirement already satisfied: sphinxcontrib-jsmath in /usr/local/lib/python3.7/dist-packages (from sphinx<5,>=4->jupyter-book) (1.0.1)\n",
            "Requirement already satisfied: sphinxcontrib-applehelp in /usr/local/lib/python3.7/dist-packages (from sphinx<5,>=4->jupyter-book) (1.0.2)\n",
            "Requirement already satisfied: babel>=1.3 in /usr/local/lib/python3.7/dist-packages (from sphinx<5,>=4->jupyter-book) (2.10.2)\n",
            "Requirement already satisfied: snowballstemmer>=1.1 in /usr/local/lib/python3.7/dist-packages (from sphinx<5,>=4->jupyter-book) (2.2.0)\n",
            "Requirement already satisfied: imagesize in /usr/local/lib/python3.7/dist-packages (from sphinx<5,>=4->jupyter-book) (1.3.0)\n",
            "Requirement already satisfied: sphinxcontrib-devhelp in /usr/local/lib/python3.7/dist-packages (from sphinx<5,>=4->jupyter-book) (1.0.2)\n",
            "Requirement already satisfied: sphinxcontrib-serializinghtml>=1.1.5 in /usr/local/lib/python3.7/dist-packages (from sphinx<5,>=4->jupyter-book) (1.1.5)\n",
            "Requirement already satisfied: sphinxcontrib-htmlhelp>=2.0.0 in /usr/local/lib/python3.7/dist-packages (from sphinx<5,>=4->jupyter-book) (2.0.0)\n",
            "Requirement already satisfied: sphinxcontrib-qthelp in /usr/local/lib/python3.7/dist-packages (from sphinx<5,>=4->jupyter-book) (1.0.3)\n",
            "Requirement already satisfied: pytz>=2015.7 in /usr/local/lib/python3.7/dist-packages (from babel>=1.3->sphinx<5,>=4->jupyter-book) (2022.1)\n",
            "Requirement already satisfied: zipp>=0.5 in /usr/local/lib/python3.7/dist-packages (from importlib-metadata->jsonschema<4->jupyter-book) (3.8.0)\n",
            "Requirement already satisfied: urllib3!=1.25.0,!=1.25.1,<1.26,>=1.21.1 in /usr/local/lib/python3.7/dist-packages (from requests>=2.5.0->sphinx<5,>=4->jupyter-book) (1.24.3)\n",
            "Requirement already satisfied: idna<3,>=2.5 in /usr/local/lib/python3.7/dist-packages (from requests>=2.5.0->sphinx<5,>=4->jupyter-book) (2.10)\n",
            "Requirement already satisfied: chardet<4,>=3.0.2 in /usr/local/lib/python3.7/dist-packages (from requests>=2.5.0->sphinx<5,>=4->jupyter-book) (3.0.4)\n",
            "Requirement already satisfied: certifi>=2017.4.17 in /usr/local/lib/python3.7/dist-packages (from requests>=2.5.0->sphinx<5,>=4->jupyter-book) (2022.6.15)\n",
            "Requirement already satisfied: pydata-sphinx-theme~=0.8.0 in /usr/local/lib/python3.7/dist-packages (from sphinx_book_theme~=0.3.2->jupyter-book) (0.8.1)\n",
            "Requirement already satisfied: importlib-resources in /usr/local/lib/python3.7/dist-packages (from sphinx-jupyterbook-latex~=0.4.6->jupyter-book) (5.7.1)\n",
            "Requirement already satisfied: wheel in /usr/local/lib/python3.7/dist-packages (from sphinx_togglebutton->jupyter-book) (0.37.1)\n",
            "Requirement already satisfied: pybtex-docutils>=1.0.0 in /usr/local/lib/python3.7/dist-packages (from sphinxcontrib-bibtex<=2.5.0,>=2.2.0->jupyter-book) (1.0.2)\n",
            "Requirement already satisfied: pybtex>=0.24 in /usr/local/lib/python3.7/dist-packages (from sphinxcontrib-bibtex<=2.5.0,>=2.2.0->jupyter-book) (0.24.0)\n",
            "Requirement already satisfied: latexcodec>=1.0.4 in /usr/local/lib/python3.7/dist-packages (from pybtex>=0.24->sphinxcontrib-bibtex<=2.5.0,>=2.2.0->jupyter-book) (2.0.1)\n",
            "Requirement already satisfied: greenlet!=0.4.17 in /usr/local/lib/python3.7/dist-packages (from sqlalchemy<1.5,>=1.3.12->jupyter-cache~=0.4.1->myst-nb~=0.13.1->jupyter-book) (1.1.2)\n",
            "Requirement already satisfied: notebook>=4.4.1 in /usr/local/lib/python3.7/dist-packages (from widgetsnbextension~=3.6.0->ipywidgets<8,>=7.0.0->myst-nb~=0.13.1->jupyter-book) (5.3.1)\n",
            "Requirement already satisfied: terminado>=0.8.1 in /usr/local/lib/python3.7/dist-packages (from notebook>=4.4.1->widgetsnbextension~=3.6.0->ipywidgets<8,>=7.0.0->myst-nb~=0.13.1->jupyter-book) (0.13.3)\n",
            "Requirement already satisfied: Send2Trash in /usr/local/lib/python3.7/dist-packages (from notebook>=4.4.1->widgetsnbextension~=3.6.0->ipywidgets<8,>=7.0.0->myst-nb~=0.13.1->jupyter-book) (1.8.0)\n",
            "Requirement already satisfied: ptyprocess in /usr/local/lib/python3.7/dist-packages (from terminado>=0.8.1->notebook>=4.4.1->widgetsnbextension~=3.6.0->ipywidgets<8,>=7.0.0->myst-nb~=0.13.1->jupyter-book) (0.7.0)\n",
            "Requirement already satisfied: kiwisolver>=1.0.1 in /usr/local/lib/python3.7/dist-packages (from matplotlib) (1.4.3)\n",
            "Requirement already satisfied: pyparsing!=2.0.4,!=2.1.2,!=2.1.6,>=2.0.1 in /usr/local/lib/python3.7/dist-packages (from matplotlib) (3.0.9)\n",
            "Requirement already satisfied: cycler>=0.10 in /usr/local/lib/python3.7/dist-packages (from matplotlib) (0.11.0)\n",
            "Requirement already satisfied: libclang>=9.0.1 in /usr/local/lib/python3.7/dist-packages (from tensorflow) (14.0.1)\n",
            "Requirement already satisfied: tensorboard<2.9,>=2.8 in /usr/local/lib/python3.7/dist-packages (from tensorflow) (2.8.0)\n",
            "Requirement already satisfied: h5py>=2.9.0 in /usr/local/lib/python3.7/dist-packages (from tensorflow) (3.1.0)\n",
            "Requirement already satisfied: gast>=0.2.1 in /usr/local/lib/python3.7/dist-packages (from tensorflow) (0.5.3)\n",
            "Requirement already satisfied: flatbuffers>=1.12 in /usr/local/lib/python3.7/dist-packages (from tensorflow) (2.0)\n",
            "Requirement already satisfied: keras-preprocessing>=1.1.1 in /usr/local/lib/python3.7/dist-packages (from tensorflow) (1.1.2)\n",
            "Requirement already satisfied: tensorflow-io-gcs-filesystem>=0.23.1 in /usr/local/lib/python3.7/dist-packages (from tensorflow) (0.26.0)\n",
            "Requirement already satisfied: opt-einsum>=2.3.2 in /usr/local/lib/python3.7/dist-packages (from tensorflow) (3.3.0)\n",
            "Requirement already satisfied: grpcio<2.0,>=1.24.3 in /usr/local/lib/python3.7/dist-packages (from tensorflow) (1.46.3)\n",
            "Requirement already satisfied: keras<2.9,>=2.8.0rc0 in /usr/local/lib/python3.7/dist-packages (from tensorflow) (2.8.0)\n",
            "Requirement already satisfied: wrapt>=1.11.0 in /usr/local/lib/python3.7/dist-packages (from tensorflow) (1.14.1)\n",
            "Requirement already satisfied: absl-py>=0.4.0 in /usr/local/lib/python3.7/dist-packages (from tensorflow) (1.1.0)\n",
            "Requirement already satisfied: protobuf<3.20,>=3.9.2 in /usr/local/lib/python3.7/dist-packages (from tensorflow) (3.17.3)\n",
            "Requirement already satisfied: astunparse>=1.6.0 in /usr/local/lib/python3.7/dist-packages (from tensorflow) (1.6.3)\n",
            "Requirement already satisfied: google-pasta>=0.1.1 in /usr/local/lib/python3.7/dist-packages (from tensorflow) (0.2.0)\n",
            "Requirement already satisfied: termcolor>=1.1.0 in /usr/local/lib/python3.7/dist-packages (from tensorflow) (1.1.0)\n",
            "Requirement already satisfied: tensorflow-estimator<2.9,>=2.8 in /usr/local/lib/python3.7/dist-packages (from tensorflow) (2.8.0)\n",
            "Requirement already satisfied: cached-property in /usr/local/lib/python3.7/dist-packages (from h5py>=2.9.0->tensorflow) (1.5.2)\n",
            "Requirement already satisfied: markdown>=2.6.8 in /usr/local/lib/python3.7/dist-packages (from tensorboard<2.9,>=2.8->tensorflow) (3.3.7)\n",
            "Requirement already satisfied: tensorboard-data-server<0.7.0,>=0.6.0 in /usr/local/lib/python3.7/dist-packages (from tensorboard<2.9,>=2.8->tensorflow) (0.6.1)\n",
            "Requirement already satisfied: werkzeug>=0.11.15 in /usr/local/lib/python3.7/dist-packages (from tensorboard<2.9,>=2.8->tensorflow) (1.0.1)\n",
            "Requirement already satisfied: tensorboard-plugin-wit>=1.6.0 in /usr/local/lib/python3.7/dist-packages (from tensorboard<2.9,>=2.8->tensorflow) (1.8.1)\n",
            "Requirement already satisfied: google-auth-oauthlib<0.5,>=0.4.1 in /usr/local/lib/python3.7/dist-packages (from tensorboard<2.9,>=2.8->tensorflow) (0.4.6)\n",
            "Requirement already satisfied: google-auth<3,>=1.6.3 in /usr/local/lib/python3.7/dist-packages (from tensorboard<2.9,>=2.8->tensorflow) (1.35.0)\n",
            "Requirement already satisfied: cachetools<5.0,>=2.0.0 in /usr/local/lib/python3.7/dist-packages (from google-auth<3,>=1.6.3->tensorboard<2.9,>=2.8->tensorflow) (4.2.4)\n",
            "Requirement already satisfied: pyasn1-modules>=0.2.1 in /usr/local/lib/python3.7/dist-packages (from google-auth<3,>=1.6.3->tensorboard<2.9,>=2.8->tensorflow) (0.2.8)\n",
            "Requirement already satisfied: rsa<5,>=3.1.4 in /usr/local/lib/python3.7/dist-packages (from google-auth<3,>=1.6.3->tensorboard<2.9,>=2.8->tensorflow) (4.8)\n",
            "Requirement already satisfied: requests-oauthlib>=0.7.0 in /usr/local/lib/python3.7/dist-packages (from google-auth-oauthlib<0.5,>=0.4.1->tensorboard<2.9,>=2.8->tensorflow) (1.3.1)\n",
            "Requirement already satisfied: pyasn1<0.5.0,>=0.4.6 in /usr/local/lib/python3.7/dist-packages (from pyasn1-modules>=0.2.1->google-auth<3,>=1.6.3->tensorboard<2.9,>=2.8->tensorflow) (0.4.8)\n",
            "Requirement already satisfied: oauthlib>=3.0.0 in /usr/local/lib/python3.7/dist-packages (from requests-oauthlib>=0.7.0->google-auth-oauthlib<0.5,>=0.4.1->tensorboard<2.9,>=2.8->tensorflow) (3.2.0)\n",
            "Requirement already satisfied: scipy>=1.0 in /usr/local/lib/python3.7/dist-packages (from seaborn) (1.4.1)\n",
            "Requirement already satisfied: pandas>=0.23 in /usr/local/lib/python3.7/dist-packages (from seaborn) (1.3.5)\n",
            "Requirement already satisfied: scikit-learn in /usr/local/lib/python3.7/dist-packages (from torch_geometric) (1.0.2)\n",
            "Requirement already satisfied: tqdm in /usr/local/lib/python3.7/dist-packages (from torch_geometric) (4.64.0)\n",
            "Requirement already satisfied: webencodings in /usr/local/lib/python3.7/dist-packages (from bleach->nbconvert<7,>=5.6->myst-nb~=0.13.1->jupyter-book) (0.5.1)\n",
            "Requirement already satisfied: jupyter-server-mathjax>=0.2.2 in /usr/local/lib/python3.7/dist-packages (from nbdime->jupyter-cache~=0.4.1->myst-nb~=0.13.1->jupyter-book) (0.2.5)\n",
            "Requirement already satisfied: GitPython!=2.1.4,!=2.1.5,!=2.1.6 in /usr/local/lib/python3.7/dist-packages (from nbdime->jupyter-cache~=0.4.1->myst-nb~=0.13.1->jupyter-book) (3.1.27)\n",
            "Requirement already satisfied: jupyter-server in /usr/local/lib/python3.7/dist-packages (from nbdime->jupyter-cache~=0.4.1->myst-nb~=0.13.1->jupyter-book) (1.18.0)\n",
            "Requirement already satisfied: colorama in /usr/local/lib/python3.7/dist-packages (from nbdime->jupyter-cache~=0.4.1->myst-nb~=0.13.1->jupyter-book) (0.4.5)\n",
            "Requirement already satisfied: gitdb<5,>=4.0.1 in /usr/local/lib/python3.7/dist-packages (from GitPython!=2.1.4,!=2.1.5,!=2.1.6->nbdime->jupyter-cache~=0.4.1->myst-nb~=0.13.1->jupyter-book) (4.0.9)\n",
            "Requirement already satisfied: smmap<6,>=3.0.1 in /usr/local/lib/python3.7/dist-packages (from gitdb<5,>=4.0.1->GitPython!=2.1.4,!=2.1.5,!=2.1.6->nbdime->jupyter-cache~=0.4.1->myst-nb~=0.13.1->jupyter-book) (5.0.0)\n",
            "Requirement already satisfied: argon2-cffi in /usr/local/lib/python3.7/dist-packages (from jupyter-server->nbdime->jupyter-cache~=0.4.1->myst-nb~=0.13.1->jupyter-book) (21.3.0)\n",
            "Requirement already satisfied: prometheus-client in /usr/local/lib/python3.7/dist-packages (from jupyter-server->nbdime->jupyter-cache~=0.4.1->myst-nb~=0.13.1->jupyter-book) (0.14.1)\n",
            "Requirement already satisfied: websocket-client in /usr/local/lib/python3.7/dist-packages (from jupyter-server->nbdime->jupyter-cache~=0.4.1->myst-nb~=0.13.1->jupyter-book) (1.3.3)\n",
            "Requirement already satisfied: anyio<4,>=3.1.0 in /usr/local/lib/python3.7/dist-packages (from jupyter-server->nbdime->jupyter-cache~=0.4.1->myst-nb~=0.13.1->jupyter-book) (3.6.1)\n",
            "Requirement already satisfied: sniffio>=1.1 in /usr/local/lib/python3.7/dist-packages (from anyio<4,>=3.1.0->jupyter-server->nbdime->jupyter-cache~=0.4.1->myst-nb~=0.13.1->jupyter-book) (1.2.0)\n",
            "Requirement already satisfied: argon2-cffi-bindings in /usr/local/lib/python3.7/dist-packages (from argon2-cffi->jupyter-server->nbdime->jupyter-cache~=0.4.1->myst-nb~=0.13.1->jupyter-book) (21.2.0)\n",
            "Requirement already satisfied: cffi>=1.0.1 in /usr/local/lib/python3.7/dist-packages (from argon2-cffi-bindings->argon2-cffi->jupyter-server->nbdime->jupyter-cache~=0.4.1->myst-nb~=0.13.1->jupyter-book) (1.15.0)\n",
            "Requirement already satisfied: pycparser in /usr/local/lib/python3.7/dist-packages (from cffi>=1.0.1->argon2-cffi-bindings->argon2-cffi->jupyter-server->nbdime->jupyter-cache~=0.4.1->myst-nb~=0.13.1->jupyter-book) (2.21)\n",
            "Requirement already satisfied: threadpoolctl>=2.0.0 in /usr/local/lib/python3.7/dist-packages (from scikit-learn->torch_geometric) (3.1.0)\n",
            "Requirement already satisfied: joblib>=0.11 in /usr/local/lib/python3.7/dist-packages (from scikit-learn->torch_geometric) (1.1.0)\n"
          ]
        }
      ],
      "source": [
        "!pip install jupyter-book matplotlib numpy tensorflow pydot seaborn Pillow rdkit-pypi torch_geometric"
      ]
    },
    {
      "cell_type": "code",
      "execution_count": null,
      "metadata": {
        "id": "pnAa-61XxqEb"
      },
      "outputs": [],
      "source": [
        "import matplotlib.pyplot as plt\n",
        "import seaborn as sns\n",
        "import matplotlib as mpl\n",
        "import numpy as np\n",
        "import warnings\n",
        "import pandas as pd\n",
        "import rdkit, rdkit.Chem, rdkit.Chem.rdDepictor, rdkit.Chem.Draw\n",
        "import networkx as nx\n",
        "import torch\n",
        "import torch\n",
        "import torch.nn as nn\n",
        "import torch.nn.functional as F\n",
        "# torch geometric\n",
        "try: \n",
        "    import torch_geometric\n",
        "except ModuleNotFoundError:\n",
        "    # Installing torch geometric packages with specific CUDA+PyTorch version. \n",
        "    # See https://pytorch-geometric.readthedocs.io/en/latest/notes/installation.html for details \n",
        "    TORCH = torch.__version__.split('+')[0]\n",
        "    CUDA = 'cu' + torch.version.cuda.replace('.','')\n",
        "\n",
        "    !pip install torch-scatter     -f https://pytorch-geometric.com/whl/torch-{TORCH}+{CUDA}.html\n",
        "    !pip install torch-sparse      -f https://pytorch-geometric.com/whl/torch-{TORCH}+{CUDA}.html\n",
        "    !pip install torch-cluster     -f https://pytorch-geometric.com/whl/torch-{TORCH}+{CUDA}.html\n",
        "    !pip install torch-spline-conv -f https://pytorch-geometric.com/whl/torch-{TORCH}+{CUDA}.html\n",
        "    !pip install torch-geometric \n",
        "    import torch_geometric\n",
        "from torch_geometric.nn import GCNConv\n",
        "import torch.utils.data as data\n",
        "import torch.optim as optim\n",
        "from torch_geometric.nn import MessagePassing\n",
        "from torch_geometric.utils import dense_to_sparse, add_self_loops, to_scipy_sparse_matrix\n",
        "from torch_geometric.data import Data\n",
        "import torch.nn.functional as F\n",
        "from six.moves import urllib\n",
        "\n",
        "warnings.filterwarnings(\"ignore\")\n",
        "sns.set_context(\"notebook\")\n",
        "sns.set_style(\n",
        "    \"dark\",\n",
        "    {\n",
        "        \"xtick.bottom\": True,\n",
        "        \"ytick.left\": True,\n",
        "        \"xtick.color\": \"#666666\",\n",
        "        \"ytick.color\": \"#666666\",\n",
        "        \"axes.edgecolor\": \"#666666\",\n",
        "        \"axes.linewidth\": 0.8,\n",
        "        \"figure.dpi\": 300,\n",
        "    },\n",
        ")\n",
        "color_cycle = [\"#1BBC9B\", \"#F06060\", \"#5C4B51\", \"#F3B562\", \"#6e5687\"]\n",
        "mpl.rcParams[\"axes.prop_cycle\"] = mpl.cycler(color=color_cycle)\n",
        "\n",
        "opener = urllib.request.build_opener()\n",
        "opener.addheaders = [('User-agent', 'Mozilla/5.0')]\n",
        "urllib.request.install_opener(opener)\n",
        "\n",
        "soldata = pd.read_csv('https://dataverse.harvard.edu/api/access/datafile/3407241?format=original&gbrecs=true')\n",
        "# had to rehost because dataverse isn't reliable\n",
        "soldata = pd.read_csv(\n",
        "    \"https://github.com/whitead/dmol-book/raw/master/data/curated-solubility-dataset.csv\"\n",
        ")\n",
        "np.random.seed(0)\n",
        "my_elements = {6: \"C\", 8: \"O\", 1: \"H\"}"
      ]
    },
    {
      "cell_type": "code",
      "execution_count": null,
      "metadata": {
        "id": "sQzgL9q5xxFN"
      },
      "outputs": [],
      "source": [
        "def smiles2graph(sml):\n",
        "    \"\"\"Argument for the RD2NX function should be a valid SMILES sequence\n",
        "    returns: the graph\n",
        "    \"\"\"\n",
        "    m = rdkit.Chem.MolFromSmiles(sml)\n",
        "    m = rdkit.Chem.AddHs(m)\n",
        "    order_string = {\n",
        "        rdkit.Chem.rdchem.BondType.SINGLE: 1,\n",
        "        rdkit.Chem.rdchem.BondType.DOUBLE: 2,\n",
        "        rdkit.Chem.rdchem.BondType.TRIPLE: 3,\n",
        "        rdkit.Chem.rdchem.BondType.AROMATIC: 4,\n",
        "    }\n",
        "    N = len(list(m.GetAtoms()))\n",
        "    nodes = np.zeros((N, len(my_elements)))\n",
        "    lookup = list(my_elements.keys())\n",
        "    for i in m.GetAtoms():\n",
        "        nodes[i.GetIdx(), lookup.index(i.GetAtomicNum())] = 1\n",
        "\n",
        "    adj = np.zeros((N, N, 5))\n",
        "    for j in m.GetBonds():\n",
        "        u = min(j.GetBeginAtomIdx(), j.GetEndAtomIdx())\n",
        "        v = max(j.GetBeginAtomIdx(), j.GetEndAtomIdx())\n",
        "        order = j.GetBondType()\n",
        "        if order in order_string:\n",
        "            order = order_string[order]\n",
        "        else:\n",
        "            raise Warning(\"Ignoring bond order\" + order)\n",
        "        adj[u, v, order] = 1\n",
        "        adj[v, u, order] = 1\n",
        "    return nodes, adj"
      ]
    },
    {
      "cell_type": "code",
      "execution_count": null,
      "metadata": {
        "colab": {
          "base_uri": "https://localhost:8080/"
        },
        "id": "-9Tt-ycjx0U8",
        "outputId": "a97061a6-4e3f-4825-c2b8-dda15f2a58e2"
      },
      "outputs": [
        {
          "data": {
            "text/plain": [
              "array([[1., 0., 0.],\n",
              "       [0., 1., 0.],\n",
              "       [0., 0., 1.],\n",
              "       [0., 0., 1.],\n",
              "       [0., 0., 1.],\n",
              "       [0., 0., 1.]])"
            ]
          },
          "execution_count": 4,
          "metadata": {},
          "output_type": "execute_result"
        }
      ],
      "source": [
        "nodes, adj = smiles2graph(\"CO\")\n",
        "nodes"
      ]
    },
    {
      "cell_type": "code",
      "execution_count": null,
      "metadata": {
        "colab": {
          "base_uri": "https://localhost:8080/"
        },
        "id": "uV9OXe9zx3Ra",
        "outputId": "26131f06-0ac4-4b11-9d20-d2300753e955"
      },
      "outputs": [
        {
          "data": {
            "text/plain": [
              "array([[1., 1., 1., 1., 1., 0.],\n",
              "       [1., 1., 0., 0., 0., 1.],\n",
              "       [1., 0., 1., 0., 0., 0.],\n",
              "       [1., 0., 0., 1., 0., 0.],\n",
              "       [1., 0., 0., 0., 1., 0.],\n",
              "       [0., 1., 0., 0., 0., 1.]])"
            ]
          },
          "execution_count": 5,
          "metadata": {},
          "output_type": "execute_result"
        }
      ],
      "source": [
        "nodes, adj = smiles2graph(\"CO\")\n",
        "adj_mat = np.sum(adj, axis=-1) + np.eye(adj.shape[0])\n",
        "adj_mat"
      ]
    },
    {
      "cell_type": "code",
      "execution_count": null,
      "metadata": {
        "colab": {
          "base_uri": "https://localhost:8080/"
        },
        "id": "U3F_inNKx5eI",
        "outputId": "ab8652f8-2b4b-4f5d-ea25-2e6ff023eb6e"
      },
      "outputs": [
        {
          "data": {
            "text/plain": [
              "array([5., 3., 2., 2., 2., 2.])"
            ]
          },
          "execution_count": 6,
          "metadata": {},
          "output_type": "execute_result"
        }
      ],
      "source": [
        "degree = np.sum(adj_mat, axis=-1)\n",
        "degree"
      ]
    },
    {
      "cell_type": "code",
      "execution_count": null,
      "metadata": {
        "colab": {
          "base_uri": "https://localhost:8080/"
        },
        "id": "Wp2rFsCYx8sN",
        "outputId": "260a9c78-f54c-48a8-caf4-3e5760c35e42"
      },
      "outputs": [
        {
          "name": "stdout",
          "output_type": "stream",
          "text": [
            "[1. 0. 0.]\n",
            "[0.2 0.2 0.6]\n"
          ]
        }
      ],
      "source": [
        "print(nodes[0])\n",
        "# note to divide by degree, make the input 1 / degree\n",
        "new_nodes = np.einsum(\"i,ij,jk->ik\", 1 / degree, adj_mat, nodes)\n",
        "print(new_nodes[0])"
      ]
    },
    {
      "cell_type": "code",
      "execution_count": null,
      "metadata": {
        "id": "CLESVxIUyFnD"
      },
      "outputs": [],
      "source": [
        "class GCNLayer(torch.nn.Module):\n",
        "    \n",
        "    def __init__(self, c_in, c_out):\n",
        "        super().__init__()\n",
        "        self.projection = nn.Linear(c_in, c_out)\n",
        "\n",
        "    def forward(self, node_feats, adj_matrix):\n",
        "        \"\"\"\n",
        "        Inputs:\n",
        "            node_feats - Tensor with node features of shape [batch_size, num_nodes, c_in]\n",
        "            adj_matrix - Batch of adjacency matrices of the graph. If there is an edge from i to j, adj_matrix[b,i,j]=1 else 0.\n",
        "                         Supports directed edges by non-symmetric matrices. Assumes to already have added the identity connections. \n",
        "                         Shape: [batch_size, num_nodes, num_nodes]\n",
        "        \"\"\"\n",
        "        # Num neighbours = number of incoming edges\n",
        "        num_neighbours = adj_matrix.sum(dim=-1, keepdims=True)\n",
        "        node_feats = self.projection(node_feats)\n",
        "        node_feats = torch.bmm(adj_matrix, node_feats)\n",
        "        node_feats = node_feats / num_neighbours\n",
        "        node_feats = F.relu(node_feats)\n",
        "        \n",
        "        return node_feats"
      ]
    },
    {
      "cell_type": "code",
      "execution_count": null,
      "metadata": {
        "colab": {
          "base_uri": "https://localhost:8080/"
        },
        "id": "knD_X6ufyGLx",
        "outputId": "64613677-f20e-4b2b-ffc6-4ab4432512b5"
      },
      "outputs": [
        {
          "name": "stdout",
          "output_type": "stream",
          "text": [
            "Node features:\n",
            " tensor([[[1., 0., 0.],\n",
            "         [0., 1., 0.],\n",
            "         [0., 0., 1.],\n",
            "         [0., 0., 1.],\n",
            "         [0., 0., 1.],\n",
            "         [0., 0., 1.]]])\n",
            "\n",
            "Adjacency matrix:\n",
            " tensor([[[1., 1., 1., 1., 1., 0.],\n",
            "         [1., 1., 0., 0., 0., 1.],\n",
            "         [1., 0., 1., 0., 0., 0.],\n",
            "         [1., 0., 0., 1., 0., 0.],\n",
            "         [1., 0., 0., 0., 1., 0.],\n",
            "         [0., 1., 0., 0., 0., 1.]]])\n",
            "tensor([[[5.],\n",
            "         [3.],\n",
            "         [2.],\n",
            "         [2.],\n",
            "         [2.],\n",
            "         [2.]]])\n",
            "torch.Size([1, 6, 6])\n",
            "Output features tensor([[[0.2000, 0.2000, 0.6000],\n",
            "         [0.3333, 0.3333, 0.3333],\n",
            "         [0.5000, 0.0000, 0.5000],\n",
            "         [0.5000, 0.0000, 0.5000],\n",
            "         [0.5000, 0.0000, 0.5000],\n",
            "         [0.0000, 0.5000, 0.5000]]])\n"
          ]
        }
      ],
      "source": [
        "layer = GCNLayer(c_in=3, c_out=3)\n",
        "layer.projection.weight.data = torch.Tensor([[1., 0., 0.], \n",
        "                                             [0., 1., 0.],\n",
        "                                             [0., 0., 1.]])\n",
        "'''\n",
        "layer.projection.weight.data = torch.Tensor([[0.32973695, 0.9439781, 0.99448895],\n",
        "                                             [0.48394036, 0.47628093, 0.976377],\n",
        "                                             [0.11168528, -0.7981007, 0.14510608]])\n",
        "'''\n",
        "\n",
        "layer.projection.bias.data = torch.Tensor([0., 0., 0.])\n",
        "\n",
        "nodes = torch.Tensor(nodes).reshape(1, 6, 3)\n",
        "node_features = nodes\n",
        "adj_mat = torch.Tensor(adj_mat).reshape(1, 6, 6)\n",
        "\n",
        "print(\"Node features:\\n\", nodes)\n",
        "print(\"\\nAdjacency matrix:\\n\", adj_mat)\n",
        "print(adj_mat.sum(dim=-1, keepdims=True))\n",
        "print(adj_mat.shape)\n",
        "\n",
        "with torch.no_grad():\n",
        "        out_feats = layer(nodes, adj_mat)\n",
        "\n",
        "print(\"Output features\", out_feats)"
      ]
    },
    {
      "cell_type": "code",
      "execution_count": null,
      "metadata": {
        "colab": {
          "base_uri": "https://localhost:8080/"
        },
        "id": "ar1mRLcCNPjJ",
        "outputId": "1126d5e8-9fb3-4405-8a54-c0377ad87677"
      },
      "outputs": [
        {
          "name": "stdout",
          "output_type": "stream",
          "text": [
            "(6,)\n",
            "[[1. 0. 0.]\n",
            " [0. 1. 0.]\n",
            " [0. 0. 1.]\n",
            " [0. 0. 1.]\n",
            " [0. 0. 1.]\n",
            " [0. 0. 1.]]\n",
            "[[1. 1. 3.]\n",
            " [1. 1. 1.]\n",
            " [1. 0. 1.]\n",
            " [1. 0. 1.]\n",
            " [1. 0. 1.]\n",
            " [0. 1. 1.]]\n",
            "[[0.2        0.2        0.6       ]\n",
            " [0.33333333 0.33333333 0.33333333]\n",
            " [0.5        0.         0.5       ]\n",
            " [0.5        0.         0.5       ]\n",
            " [0.5        0.         0.5       ]\n",
            " [0.         0.5        0.5       ]]\n"
          ]
        }
      ],
      "source": [
        "degree_mat_manual = np.array([[5.],\n",
        "         [3.],\n",
        "         [2.],\n",
        "         [2.],\n",
        "         [2.],\n",
        "         [2.]]).reshape(6,)\n",
        "print(degree_mat_manual.shape)\n",
        "weight_mat_manual = np.array([[1., 0., 0.], \n",
        "                                             [0., 1., 0.],\n",
        "                                             [0., 0., 1.]])\n",
        "# 6 x 3\n",
        "node_features_manual = node_features.reshape(6, 3)\n",
        "# 3 x 3\n",
        "adj_mat_manual = adj_mat.reshape(6, 6)\n",
        "# real case with 100 features\n",
        "# N x 100 = nodes features\n",
        "# N x N = adjacency matrix\n",
        "# 100 x 100 = weight matrix\n",
        "# N x N x N x 100 x 100 x 100\n",
        "\n",
        "# second dimension of N nodes must be kept constant so when N differs \n",
        "\n",
        "# 1000 --> 20 x 20 for N = 20 with batch size = 100, 1000 molecules of size 20\n",
        "# 1000 x 20 x 100 (100 features)\n",
        "# 100 x 100 for weight matrix\n",
        "# 20 x 20 x 20 x 100\n",
        "\n",
        "# test case below\n",
        "# H (6 x 3) x W^T (3 x 3) --> 6 x 3 resultant\n",
        "temp1 = np.dot(node_features_manual, weight_mat_manual.T)\n",
        "print(temp1)\n",
        "# A (6 x 6) x H (6 x 3) x W^T (3 x 3) ---> 6 x 6 x 6 x 3 x 6 x 3 ---> 6 x 3 resultant\n",
        "temp2 = np.dot(adj_mat_manual, temp1)\n",
        "print(temp2)\n",
        "for i in range(len(degree_mat_manual)):\n",
        "  temp2[i] = temp2[i]/degree_mat_manual[i]\n",
        "print(temp2)"
      ]
    },
    {
      "cell_type": "code",
      "execution_count": null,
      "metadata": {
        "colab": {
          "base_uri": "https://localhost:8080/"
        },
        "id": "7ZLpbt33QHWi",
        "outputId": "6b723732-122b-46a1-acfb-245a1a5ec55f"
      },
      "outputs": [
        {
          "name": "stdout",
          "output_type": "stream",
          "text": [
            "[[0.2        0.2        0.6       ]\n",
            " [0.33333333 0.33333333 0.33333333]\n",
            " [0.5        0.         0.5       ]\n",
            " [0.5        0.         0.5       ]\n",
            " [0.5        0.         0.5       ]\n",
            " [0.         0.5        0.5       ]]\n",
            "[[2.03333333 0.53333333 2.43333333]\n",
            " [0.53333333 1.03333333 1.43333333]\n",
            " [0.7        0.2        1.1       ]\n",
            " [0.7        0.2        1.1       ]\n",
            " [0.7        0.2        1.1       ]\n",
            " [0.33333333 0.83333333 0.83333333]]\n",
            "[[0.40666667 0.10666667 0.48666667]\n",
            " [0.17777778 0.34444444 0.47777778]\n",
            " [0.35       0.1        0.55      ]\n",
            " [0.35       0.1        0.55      ]\n",
            " [0.35       0.1        0.55      ]\n",
            " [0.16666667 0.41666667 0.41666667]]\n"
          ]
        }
      ],
      "source": [
        "node_features_manual = temp2\n",
        "# H x W^T --> 6 x 3 resultant\n",
        "temp1 = np.dot(node_features_manual, weight_mat_manual.T)\n",
        "print(temp1)\n",
        "# A x H x W^T ---> 6 x 6 x 6 x 3 ---> 6 x 3 resultant\n",
        "temp2 = np.dot(adj_mat_manual, temp1)\n",
        "print(temp2)\n",
        "for i in range(len(degree_mat_manual)):\n",
        "  temp2[i] = temp2[i]/degree_mat_manual[i]\n",
        "print(temp2)"
      ]
    },
    {
      "cell_type": "code",
      "execution_count": null,
      "metadata": {
        "colab": {
          "base_uri": "https://localhost:8080/"
        },
        "id": "io9l3ZG3yIZE",
        "outputId": "d7ad8dd1-c5e1-4ef6-d679-9a4eba56ba4e"
      },
      "outputs": [
        {
          "name": "stdout",
          "output_type": "stream",
          "text": [
            "Output features tensor([[[0.4067, 0.1067, 0.4867],\n",
            "         [0.1778, 0.3444, 0.4778],\n",
            "         [0.3500, 0.1000, 0.5500],\n",
            "         [0.3500, 0.1000, 0.5500],\n",
            "         [0.3500, 0.1000, 0.5500],\n",
            "         [0.1667, 0.4167, 0.4167]]])\n"
          ]
        }
      ],
      "source": [
        "out_feats = nodes\n",
        "for i in range(2):\n",
        "  with torch.no_grad():\n",
        "          out_feats = layer(out_feats, adj_mat)\n",
        "        \n",
        "print(\"Output features\", out_feats)"
      ]
    },
    {
      "cell_type": "code",
      "execution_count": null,
      "metadata": {
        "id": "CwmhA-pKRhsr"
      },
      "outputs": [],
      "source": [
        "class GRLayer(torch.nn.Module):\n",
        "\n",
        "    def __init__(self, **kwargs):\n",
        "        super(GRLayer, self).__init__(**kwargs)\n",
        "\n",
        "    def forward(self, node_feats):\n",
        "        # print(node_feats.shape)\n",
        "        reduction = torch.mean(torch.Tensor(node_feats), 1, True)\n",
        "        return reduction"
      ]
    },
    {
      "cell_type": "code",
      "execution_count": null,
      "metadata": {
        "id": "oAKe9dkYaM21"
      },
      "outputs": [],
      "source": [
        "def gen_smiles2graph(sml):\n",
        "    \"\"\"Argument for the RD2NX function should be a valid SMILES sequence\n",
        "    returns: the graph\n",
        "    \"\"\"\n",
        "    m = rdkit.Chem.MolFromSmiles(sml)\n",
        "    m = rdkit.Chem.AddHs(m)\n",
        "    order_string = {\n",
        "        rdkit.Chem.rdchem.BondType.SINGLE: 1,\n",
        "        rdkit.Chem.rdchem.BondType.DOUBLE: 2,\n",
        "        rdkit.Chem.rdchem.BondType.TRIPLE: 3,\n",
        "        rdkit.Chem.rdchem.BondType.AROMATIC: 4,\n",
        "    }\n",
        "    N = len(list(m.GetAtoms()))\n",
        "    nodes = np.zeros((N, 100))\n",
        "    for i in m.GetAtoms():\n",
        "        nodes[i.GetIdx(), i.GetAtomicNum()] = 1\n",
        "\n",
        "    adj = np.zeros((N, N))\n",
        "    for j in m.GetBonds():\n",
        "        u = min(j.GetBeginAtomIdx(), j.GetEndAtomIdx())\n",
        "        v = max(j.GetBeginAtomIdx(), j.GetEndAtomIdx())\n",
        "        order = j.GetBondType()\n",
        "        if order in order_string:\n",
        "            order = order_string[order]\n",
        "        else:\n",
        "            raise Warning(\"Ignoring bond order\" + order)\n",
        "        adj[u, v] = 1\n",
        "        adj[v, u] = 1\n",
        "    adj += np.eye(N)\n",
        "    return nodes, adj"
      ]
    },
    {
      "cell_type": "code",
      "execution_count": null,
      "metadata": {
        "colab": {
          "base_uri": "https://localhost:8080/"
        },
        "id": "8JBxw9BjaRqL",
        "outputId": "bf40f184-46b3-4fab-d640-2a9d576eed06"
      },
      "outputs": [
        {
          "name": "stdout",
          "output_type": "stream",
          "text": [
            "torch.Size([1, 6, 100])\n",
            "torch.Size([1, 1, 100])\n",
            "torch.Size([1, 1, 16])\n",
            "torch.Size([1, 1, 16])\n",
            "torch.Size([1, 1, 1])\n",
            "tensor([[[-0.1698]]], grad_fn=<AddBackward0>)\n"
          ]
        }
      ],
      "source": [
        "nodes, adj = gen_smiles2graph(\"CO\")\n",
        "# model((nodes[np.newaxis, ...], adj_mat[np.newaxis, ...]))\n",
        "ninput = torch.Tensor(nodes).reshape(1, 6, 100)\n",
        "ainput = torch.Tensor(adj_mat).reshape(1, 6, 6)\n",
        "# print(ninput)\n",
        "# print(ninput.shape)\n",
        "# print(ainput)\n",
        "# print(ainput.shape)\n",
        "# GCN block\n",
        "layer = GCNLayer(c_in=100, c_out=100)\n",
        "x = layer(ninput, ainput)\n",
        "x = layer(x, ainput)\n",
        "x = layer(x, ainput)\n",
        "x = layer(x, ainput)\n",
        "# reduce to graph features\n",
        "# averaging all the nodes (reduction over the columns) --> you get a vector of all the averaged node features\n",
        "print(x.shape)\n",
        "x = GRLayer()(x)\n",
        "print(x.shape)\n",
        "# standard layers (the readout)\n",
        "layer1 = nn.Linear(in_features=100, out_features=16)\n",
        "layer2 = nn.Linear(in_features=16, out_features=1)\n",
        "x = layer1(x)\n",
        "print(x.shape)\n",
        "x = nn.functional.tanh(x)\n",
        "print(x.shape)\n",
        "x = layer2(x)\n",
        "print(x.shape)\n",
        "print(x)\n",
        "# keras code - equivalent in PyTorch?\n",
        "# model = tf.keras.Model(inputs=(ninput, ainput), outputs=x)"
      ]
    },
    {
      "cell_type": "code",
      "execution_count": null,
      "metadata": {
        "colab": {
          "base_uri": "https://localhost:8080/"
        },
        "id": "8yDiWep8q4yJ",
        "outputId": "f7d68490-5248-4152-b909-b00ce1051d78"
      },
      "outputs": [
        {
          "name": "stdout",
          "output_type": "stream",
          "text": [
            "Using cpu device\n"
          ]
        }
      ],
      "source": [
        "device = \"cuda\" if torch.cuda.is_available() else \"cpu\"\n",
        "print(f\"Using {device} device\")"
      ]
    },
    {
      "cell_type": "code",
      "execution_count": null,
      "metadata": {
        "id": "RdIDO1CNq8Wa"
      },
      "outputs": [],
      "source": [
        "'''\n",
        "def example():\n",
        "    for i in range(len(soldata)):\n",
        "        graph = gen_smiles2graph(soldata.SMILES[i])\n",
        "        sol = soldata.Solubility[i]\n",
        "        yield graph, sol\n",
        "\n",
        "data = tf.data.Dataset.from_generator(\n",
        "    example,\n",
        "    output_types=((tf.float32, tf.float32), tf.float32),\n",
        "    output_shapes=(\n",
        "        (tf.TensorShape([None, 100]), tf.TensorShape([None, None])),\n",
        "        tf.TensorShape([]),\n",
        "    ),\n",
        ")\n",
        "'''\n",
        "\n",
        "# PyTorch equivalent of tf code above using generator?\n",
        "\n",
        "graph = []\n",
        "sol = []\n",
        "for i in range(len(soldata)):\n",
        "    graph.append(gen_smiles2graph(soldata.SMILES[i]))\n",
        "    sol.append(soldata.Solubility[i])"
      ]
    },
    {
      "cell_type": "code",
      "execution_count": null,
      "metadata": {
        "id": "Zdpii3yK0eQZ"
      },
      "outputs": [],
      "source": [
        "# print(graph[0])\n",
        "# print(sol[0])\n",
        "# print(type(graph))\n",
        "# print(type(sol))\n",
        "\n",
        "class CustomDataset(data.Dataset):\n",
        "    def __init__(self, graphAll, solAll, transform=None, target_transform=None):\n",
        "        self.graphInstances = graphAll\n",
        "        self.solInstances = solAll\n",
        "        self.transform = transform\n",
        "        self.target_transform = target_transform\n",
        "\n",
        "    def __len__(self):\n",
        "        return len(self.graphInstances)\n",
        "\n",
        "    def __getitem__(self, idx):\n",
        "        graphInstance = self.graphInstances[idx]\n",
        "        solInstance = self.solInstances[idx]\n",
        "        if self.transform:\n",
        "            graphInstance = self.transform(graphInstance)\n",
        "        if self.target_transform:\n",
        "            solInstance = self.target_transform(solInstance)\n",
        "        return graphInstance, solInstance"
      ]
    },
    {
      "cell_type": "code",
      "execution_count": null,
      "metadata": {
        "colab": {
          "base_uri": "https://localhost:8080/"
        },
        "id": "u6hjFb3U5mc-",
        "outputId": "4a80e416-cf5b-435e-f804-92d69ada9721"
      },
      "outputs": [
        {
          "data": {
            "text/plain": [
              "2"
            ]
          },
          "execution_count": 19,
          "metadata": {},
          "output_type": "execute_result"
        }
      ],
      "source": [
        "import multiprocessing\n",
        "\n",
        "cores = multiprocessing.cpu_count() # Count the number of cores in a computer\n",
        "cores"
      ]
    },
    {
      "cell_type": "code",
      "execution_count": null,
      "metadata": {
        "id": "TitCr_kE4B9J"
      },
      "outputs": [],
      "source": [
        "dataset = CustomDataset(graphAll=graph, solAll=sol)\n",
        "dataloader = data.DataLoader(dataset, batch_size=1,\n",
        "                        shuffle=True, num_workers=cores)\n",
        "# print(len(dataloader))\n",
        "# print(type(dataloader))\n",
        "test_data, val_data, train_data = data.random_split(dataloader, [200, 200, len(dataloader) - 400], generator=torch.Generator().manual_seed(42))\n",
        "\n",
        "test_data_loader = data.DataLoader(test_data, batch_size=1, shuffle=True, num_workers=cores)\n",
        "val_data_loader = data.DataLoader(val_data, batch_size=1, shuffle=True, num_workers=cores)\n",
        "train_data_loader = data.DataLoader(train_data, batch_size=1, shuffle=True, num_workers=cores)\n",
        "# print(test_data)\n",
        "# print(val_data)\n",
        "# print(train_data)\n",
        "# print(train_data.__getitem__(0))"
      ]
    },
    {
      "cell_type": "code",
      "execution_count": null,
      "metadata": {
        "id": "D2s04y6wG0Dp"
      },
      "outputs": [],
      "source": [
        "class NeuralNetwork(nn.Module):\n",
        "    def __init__(self):\n",
        "        super(NeuralNetwork, self).__init__()\n",
        "        self.gcn_layer = GCNLayer(c_in=100, c_out=100)\n",
        "        self.gr_layer = GRLayer()\n",
        "        self.linear_layer1 = nn.Linear(100, 16)\n",
        "        self.nonlinear_activation_fx = nn.Tanh()\n",
        "        self.linear_layer2 = nn.Linear(16, 1)\n",
        "        '''\n",
        "        self.gcn_linear_relu_stack = nn.Sequential(\n",
        "            GCNLayer(c_in=100, c_out=100),\n",
        "            GCNLayer(c_in=100, c_out=100),\n",
        "            GCNLayer(c_in=100, c_out=100),\n",
        "            GCNLayer(c_in=100, c_out=100),\n",
        "            nn.Linear(100, 16),\n",
        "            nn.Tanh(),\n",
        "            nn.Linear(16, 1),\n",
        "        )\n",
        "        '''\n",
        "    \n",
        "    def forward(self, ninput, ainput):\n",
        "        x = self.gcn_layer(ninput, ainput)\n",
        "        x = self.gcn_layer(x, ainput)\n",
        "        x = self.gcn_layer(x, ainput)\n",
        "        x = self.gcn_layer(x, ainput)\n",
        "        x = self.gr_layer(x)\n",
        "        x = self.linear_layer1(x)\n",
        "        x = self.nonlinear_activation_fx(x)\n",
        "        x = self.linear_layer2(x)\n",
        "        return x\n",
        "        '''\n",
        "        solubility = self.gcn_linear_relu_stack(ninput, ainput)\n",
        "        return solubility\n",
        "        '''\n",
        "\n",
        "model = NeuralNetwork()"
      ]
    },
    {
      "cell_type": "code",
      "execution_count": null,
      "metadata": {
        "id": "ui5-_V_qKzZI"
      },
      "outputs": [],
      "source": [
        "def train_loop(dataloader, dataloader2, model, loss_fn, optimizer):\n",
        "    # print(\"before size\")\n",
        "    size = len(dataloader.dataset)\n",
        "    # print(\"after size\")\n",
        "    # print(size)\n",
        "    loss_batch = []\n",
        "    for batch, (X, y) in enumerate(dataloader.dataset):\n",
        "    # for batch, (X, y) in enumerate(dataloader):\n",
        "        # Compute prediction and loss\n",
        "        # print(len(X))\n",
        "        # print(X[0].shape)\n",
        "        # print(X[1].shape)\n",
        "        ninput = X[0].float()\n",
        "        # print(ninput.shape)\n",
        "        ainput = X[1].float()\n",
        "        # print(ainput.shape)\n",
        "        # print(ainput.sum(dim=-1, keepdims=True))\n",
        "        pred = model(ninput, ainput)\n",
        "        # print(pred.shape)\n",
        "        yReshaped = torch.Tensor([y]).reshape(1, 1, 1)\n",
        "        # print(yReshaped.shape)\n",
        "        # print(\"Prediction: %s, Actual value %s\", pred, yReshaped)\n",
        "        loss = loss_fn(pred, yReshaped)\n",
        "\n",
        "        # Backpropagation\n",
        "        optimizer.zero_grad()\n",
        "        loss.backward()\n",
        "        optimizer.step()\n",
        "\n",
        "        loss_batch.append(loss.item())\n",
        "\n",
        "    loss_epoch = np.average(loss_batch)\n",
        "\n",
        "    print(\"Training loss: \", loss_epoch)\n",
        "\n",
        "    val_loss_batch = []\n",
        "\n",
        "    with torch.no_grad():\n",
        "        for batch, (X, y) in enumerate(dataloader2.dataset):\n",
        "        # for batch, (X, y) in enumerate(dataloader2):\n",
        "            ninput = X[0].float()\n",
        "            ainput = X[1].float()\n",
        "            pred = model(ninput, ainput)\n",
        "            yReshaped = torch.Tensor([y]).reshape(1, 1, 1)\n",
        "            loss = loss_fn(pred, yReshaped)\n",
        "      \n",
        "            val_loss_batch.append(loss.item())\n",
        "    \n",
        "    val_loss_epoch = np.average(val_loss_batch)\n",
        "\n",
        "    print(\"Validation loss: \", val_loss_epoch)\n",
        "\n",
        "    return loss_epoch, val_loss_epoch\n",
        "\n",
        "def test_loop(dataloader, model, loss_fn):\n",
        "    size = len(dataloader.dataset)\n",
        "    num_batches = len(dataloader)\n",
        "    test_loss, correct = 0, 0\n",
        "\n",
        "    with torch.no_grad():\n",
        "        for X, y in dataloader.dataset:\n",
        "        # for X, y in dataloader:\n",
        "            pred = model(X)\n",
        "            test_loss += loss_fn(pred, y).item()\n",
        "            correct += (pred.argmax(1) == y).type(torch.float).sum().item()\n",
        "\n",
        "    test_loss /= num_batches\n",
        "    correct /= size\n",
        "    # print(f\"Test Error: \\n Accuracy: {(100*correct):>0.1f}%, Avg loss: {test_loss:>8f} \\n\")"
      ]
    },
    {
      "cell_type": "code",
      "execution_count": null,
      "metadata": {
        "colab": {
          "background_save": true,
          "base_uri": "https://localhost:8080/"
        },
        "id": "MtYHGgTsde37",
        "outputId": "24bdd7a0-f8bc-408d-93e5-de7b11ab0db8"
      },
      "outputs": [
        {
          "name": "stdout",
          "output_type": "stream",
          "text": [
            "Epoch 1\n",
            "-------------------------------\n",
            "Training loss:  5.654659854809113\n",
            "Validation loss:  5.611922339935841\n",
            "Epoch 2\n",
            "-------------------------------\n",
            "Training loss:  5.6290820141852915\n",
            "Validation loss:  5.621657910855296\n",
            "Epoch 3\n",
            "-------------------------------\n",
            "Training loss:  5.632663964004846\n",
            "Validation loss:  5.608591241965499\n",
            "Epoch 4\n",
            "-------------------------------\n",
            "Training loss:  5.631504467256939\n",
            "Validation loss:  5.607733830244294\n",
            "Epoch 5\n",
            "-------------------------------\n",
            "Training loss:  5.6282572876684345\n",
            "Validation loss:  5.634597700786367\n",
            "Epoch 6\n",
            "-------------------------------\n",
            "Training loss:  5.626533399655708\n",
            "Validation loss:  5.6085097215386055\n",
            "Epoch 7\n",
            "-------------------------------\n",
            "Training loss:  5.626005397194324\n",
            "Validation loss:  5.610077065095863\n",
            "Epoch 8\n",
            "-------------------------------\n",
            "Training loss:  5.6317207551215605\n",
            "Validation loss:  5.607664489079248\n",
            "Epoch 9\n",
            "-------------------------------\n",
            "Training loss:  5.635157089619353\n",
            "Validation loss:  5.619756302616692\n",
            "Epoch 10\n",
            "-------------------------------\n",
            "Training loss:  5.63384608772671\n",
            "Validation loss:  5.616462089805318\n",
            "Epoch 11\n",
            "-------------------------------\n",
            "Training loss:  5.631308656978112\n",
            "Validation loss:  5.629217771226166\n",
            "Epoch 12\n",
            "-------------------------------\n",
            "Training loss:  5.627574019148316\n",
            "Validation loss:  5.619517379579035\n",
            "Epoch 13\n",
            "-------------------------------\n",
            "Training loss:  5.619443736499372\n",
            "Validation loss:  5.62807681996929\n",
            "Epoch 14\n",
            "-------------------------------\n",
            "Training loss:  5.626321922311883\n",
            "Validation loss:  5.651236068456556\n",
            "Epoch 15\n",
            "-------------------------------\n",
            "Training loss:  5.628132438714795\n",
            "Validation loss:  5.612590565945479\n",
            "Epoch 16\n",
            "-------------------------------\n",
            "Training loss:  5.630774244313763\n",
            "Validation loss:  5.613180997553086\n",
            "Epoch 17\n",
            "-------------------------------\n",
            "Training loss:  5.624530189325809\n",
            "Validation loss:  5.685063797662644\n",
            "Epoch 18\n",
            "-------------------------------\n",
            "Training loss:  5.624950949428556\n",
            "Validation loss:  5.610931733491151\n",
            "Epoch 19\n",
            "-------------------------------\n",
            "Training loss:  5.633830638640378\n",
            "Validation loss:  5.638030943784692\n",
            "Epoch 20\n",
            "-------------------------------\n",
            "Training loss:  5.630281569142883\n",
            "Validation loss:  5.622448077295398\n",
            "Done!\n"
          ]
        }
      ],
      "source": [
        "learning_rate = 1e-3\n",
        "loss_fn = nn.MSELoss()\n",
        "optimizer = torch.optim.Adam(model.parameters(), lr=learning_rate)\n",
        "train_loss = []\n",
        "val_loss = []\n",
        "loss_epochs = []\n",
        "val_loss_epochs = []\n",
        "\n",
        "epochs = 20\n",
        "for t in range(epochs):\n",
        "    print(f\"Epoch {t+1}\\n-------------------------------\")\n",
        "    # we need to check to see if train_data and val_data is being shuffled before each epoch along with playing around with different initializations (and can do multiple reruns)\n",
        "    # we can also try SGD for a few epochs (5) before doing Adam or maybe try SGD for all 20 epochs\n",
        "    # we can run several jupyter notebooks in parallel\n",
        "    train_loss_epoch_value, val_loss_epoch_value = train_loop(train_data_loader.dataset, val_data_loader.dataset, model, loss_fn, optimizer)\n",
        "    train_loss.append(train_loss_epoch_value)\n",
        "    val_loss.append(val_loss_epoch_value)\n",
        "    # test_loop(test_data, model, loss_fn)\n",
        "print(\"Done!\")"
      ]
    },
    {
      "cell_type": "code",
      "execution_count": null,
      "metadata": {
        "colab": {
          "background_save": true
        },
        "id": "WJGCBTrTgOUZ"
      },
      "outputs": [],
      "source": [
        "# train_loss = [4.226139596777066, 3.004239772329186, 2.572852132083354, 2.4141540110657216, 2.3216654043936646, 2.1875368104018067, 2.1429045711136068, 2.069950588210219, 1.9942445817747199, 1.9191229061224768, 1.8690842514004369, 1.7871576600868404, 1.7476929143898259, 1.7090401340630716, 1.6644819780875477, 1.6327650274479517, 1.5917086882318254, 1.5811287509559409, 1.554251340270101, 1.5298286575051994]\n",
        "# print(len(train_loss))"
      ]
    },
    {
      "cell_type": "code",
      "execution_count": null,
      "metadata": {
        "colab": {
          "background_save": true
        },
        "id": "7mGFqsKSJB8e",
        "outputId": "0026576d-b450-4b16-f685-5d9a3a59b7a6"
      },
      "outputs": [
        {
          "name": "stdout",
          "output_type": "stream",
          "text": [
            "20\n",
            "20\n"
          ]
        }
      ],
      "source": [
        "print(len(train_loss))\n",
        "print(len(val_loss))"
      ]
    },
    {
      "cell_type": "code",
      "execution_count": null,
      "metadata": {
        "colab": {
          "background_save": true
        },
        "id": "P8xvQCUS99d6",
        "outputId": "be91428b-5ced-4340-dbf3-b78b10830dec"
      },
      "outputs": [
        {
          "data": {
            "image/png": "[encoded data removed]",
            "text/plain": [
              "<Figure size 720x360 with 1 Axes>"
            ]
          },
          "metadata": {},
          "output_type": "display_data"
        }
      ],
      "source": [
        "train_loss = torch.Tensor(train_loss)\n",
        "val_loss = torch.Tensor(val_loss)\n",
        "\n",
        "plt.figure(figsize=(10,5))\n",
        "plt.title(\"Training and Validation Loss\")\n",
        "plt.plot(val_loss,label=\"val\")\n",
        "plt.plot(train_loss,label=\"train\")\n",
        "plt.xlabel(\"iterations\")\n",
        "plt.ylabel(\"Loss\")\n",
        "plt.legend()\n",
        "plt.show()"
      ]
    }
  ],
  "metadata": {
    "colab": {
      "collapsed_sections": [],
      "name": "aditya-gnn-implementation-colab.ipynb",
      "provenance": [],
      "authorship_tag": "ABX9TyNISVIdJxbkADBTLlqo7P4E",
      "include_colab_link": true
    },
    "kernelspec": {
      "display_name": "Python 3",
      "name": "python3"
    },
    "language_info": {
      "name": "python"
    }
  },
  "nbformat": 4,
  "nbformat_minor": 0
}